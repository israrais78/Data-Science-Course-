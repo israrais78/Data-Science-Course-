{
 "cells": [
  {
   "cell_type": "code",
   "execution_count": 10,
   "id": "3129a863",
   "metadata": {},
   "outputs": [
    {
     "name": "stdout",
     "output_type": "stream",
     "text": [
      "twinkle, twinkle, little star\n",
      "       how are wonder what you are\n",
      "                  up above the world so high,\n",
      "                  like the diamond in the sky.\n",
      "twinkle, twinkle, little star\n",
      "       how are wonder what you are\n"
     ]
    }
   ],
   "source": [
    "x= \"twinkle, twinkle, little star\";\n",
    "\n",
    "y=  \"       how are wonder what you are\";\n",
    "z= \"                  up above the world so high,\";\n",
    "a= \"                  like the diamond in the sky.\";\n",
    "print(x);\n",
    "print(y);\n",
    "print(z);\n",
    "print(a);\n",
    "print(x);\n",
    "print(y);"
   ]
  },
  {
   "cell_type": "code",
   "execution_count": 11,
   "id": "204f0f78",
   "metadata": {},
   "outputs": [
    {
     "name": "stdout",
     "output_type": "stream",
     "text": [
      "12/29/2021\n"
     ]
    }
   ],
   "source": [
    "x= \"12/29/2021\";\n",
    "print(x);"
   ]
  },
  {
   "cell_type": "code",
   "execution_count": 19,
   "id": "04f661fb",
   "metadata": {},
   "outputs": [
    {
     "name": "stdout",
     "output_type": "stream",
     "text": [
      "79\n"
     ]
    }
   ],
   "source": [
    "a= 45\n",
    "b=34\n",
    "print(a+b);"
   ]
  },
  {
   "cell_type": "code",
   "execution_count": 20,
   "id": "bb9f35c6",
   "metadata": {},
   "outputs": [
    {
     "name": "stdout",
     "output_type": "stream",
     "text": [
      "-27.0\n"
     ]
    }
   ],
   "source": [
    "a= ((2+7) / (6-9) * 9)\n",
    "print(a)\n"
   ]
  },
  {
   "cell_type": "code",
   "execution_count": null,
   "id": "5e480624",
   "metadata": {},
   "outputs": [],
   "source": []
  }
 ],
 "metadata": {
  "kernelspec": {
   "display_name": "Python 3",
   "language": "python",
   "name": "python3"
  },
  "language_info": {
   "codemirror_mode": {
    "name": "ipython",
    "version": 3
   },
   "file_extension": ".py",
   "mimetype": "text/x-python",
   "name": "python",
   "nbconvert_exporter": "python",
   "pygments_lexer": "ipython3",
   "version": "3.8.8"
  }
 },
 "nbformat": 4,
 "nbformat_minor": 5
}
